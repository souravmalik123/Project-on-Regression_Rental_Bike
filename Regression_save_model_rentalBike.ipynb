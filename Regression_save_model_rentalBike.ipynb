{
 "cells": [
  {
   "cell_type": "code",
   "execution_count": 29,
   "id": "d94323b8",
   "metadata": {},
   "outputs": [],
   "source": [
    "import pandas as pd\n",
    "import joblib\n",
    "from sklearn.metrics import r2_score"
   ]
  },
  {
   "cell_type": "code",
   "execution_count": 30,
   "id": "e46d47c2",
   "metadata": {},
   "outputs": [],
   "source": [
    "file_name = \"Regression_model_Rental_bike.save\""
   ]
  },
  {
   "cell_type": "code",
   "execution_count": 31,
   "id": "2364a8ae",
   "metadata": {},
   "outputs": [],
   "source": [
    "model_save = joblib.load(\"Regression_model_Rental_bike.save\")"
   ]
  },
  {
   "cell_type": "code",
   "execution_count": 32,
   "id": "c5bc685a",
   "metadata": {},
   "outputs": [
    {
     "name": "stdout",
     "output_type": "stream",
     "text": [
      "LinearRegression()\n"
     ]
    }
   ],
   "source": [
    "print(model_save)"
   ]
  },
  {
   "cell_type": "code",
   "execution_count": 33,
   "id": "3d28d15c",
   "metadata": {},
   "outputs": [
    {
     "name": "stdout",
     "output_type": "stream",
     "text": [
      "                 datetime  season  holiday  workingday  weather   temp  \\\n",
      "0      2012-06-30 1:00:00       3        0           0        3  26.24   \n",
      "1      2012-06-30 2:00:00       3        0           0        2  26.24   \n",
      "2      2012-06-30 3:00:00       3        0           0        2  26.24   \n",
      "3      2012-06-30 4:00:00       3        0           0        2  25.42   \n",
      "4      2012-06-30 5:00:00       3        0           0        1  26.24   \n",
      "...                   ...     ...      ...         ...      ...    ...   \n",
      "4394  2012-12-31 19:00:00       1        0           1        2  10.66   \n",
      "4395  2012-12-31 20:00:00       1        0           1        2  10.66   \n",
      "4396  2012-12-31 21:00:00       1        0           1        1  10.66   \n",
      "4397  2012-12-31 22:00:00       1        0           1        1  10.66   \n",
      "4398  2012-12-31 23:00:00       1        0           1        1  10.66   \n",
      "\n",
      "       atemp  humidity  windspeed  casual  registered  \n",
      "0     28.790      89.0    15.0013       3          55  \n",
      "1     28.790      89.0     0.0000       7          54  \n",
      "2     28.790      89.0     0.0000       3          20  \n",
      "3     27.275      94.0     0.0000       3          15  \n",
      "4     28.790      89.0    11.0014       3           7  \n",
      "...      ...       ...        ...     ...         ...  \n",
      "4394  12.880      60.0    11.0014      11         108  \n",
      "4395  12.880      60.0    11.0014       8          81  \n",
      "4396  12.880      60.0    11.0014       7          83  \n",
      "4397  13.635      56.0     8.9981      13          48  \n",
      "4398  13.635      65.0     8.9981      12          37  \n",
      "\n",
      "[4399 rows x 11 columns]\n"
     ]
    }
   ],
   "source": [
    "test_data = pd.read_csv(\"test.csv\")\n",
    "print(test_data) "
   ]
  },
  {
   "cell_type": "code",
   "execution_count": 34,
   "id": "928b3a36",
   "metadata": {},
   "outputs": [],
   "source": [
    "test_data.drop(columns = [\"casual\",\"registered\",\"temp\",\"datetime\"],inplace = True)"
   ]
  },
  {
   "cell_type": "code",
   "execution_count": 35,
   "id": "0bd18d83",
   "metadata": {},
   "outputs": [
    {
     "name": "stdout",
     "output_type": "stream",
     "text": [
      "   season  holiday  workingday  weather   atemp  humidity  windspeed\n",
      "0       3        0           0        3  28.790      89.0    15.0013\n",
      "1       3        0           0        2  28.790      89.0     0.0000\n",
      "2       3        0           0        2  28.790      89.0     0.0000\n",
      "3       3        0           0        2  27.275      94.0     0.0000\n",
      "4       3        0           0        1  28.790      89.0    11.0014\n"
     ]
    }
   ],
   "source": [
    "print(test_data.head())"
   ]
  },
  {
   "cell_type": "code",
   "execution_count": 36,
   "id": "e84a6445",
   "metadata": {},
   "outputs": [
    {
     "name": "stdout",
     "output_type": "stream",
     "text": [
      "[153.62501711 140.57193441 140.57193441 ...  93.27008554 107.56418508\n",
      "  85.51061073]\n"
     ]
    }
   ],
   "source": [
    "##### pridicting the testing data\n",
    "pred1=model_save.predict(test_data)\n",
    "print(pred1)"
   ]
  }
 ],
 "metadata": {
  "kernelspec": {
   "display_name": "Python 3 (ipykernel)",
   "language": "python",
   "name": "python3"
  },
  "language_info": {
   "codemirror_mode": {
    "name": "ipython",
    "version": 3
   },
   "file_extension": ".py",
   "mimetype": "text/x-python",
   "name": "python",
   "nbconvert_exporter": "python",
   "pygments_lexer": "ipython3",
   "version": "3.11.4"
  }
 },
 "nbformat": 4,
 "nbformat_minor": 5
}
